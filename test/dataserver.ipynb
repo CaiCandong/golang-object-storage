{
 "cells": [
  {
   "cell_type": "markdown",
   "metadata": {},
   "source": [
    "# dataserver HTTP 接口测试"
   ]
  },
  {
   "cell_type": "code",
   "execution_count": null,
   "metadata": {},
   "outputs": [],
   "source": [
    "import requests \n",
    "# 生成文件md5 code\n",
    "# !../tools/genhash/genfilemd5.exe  abc.txt >  hash.txt"
   ]
  },
  {
   "cell_type": "code",
   "execution_count": 36,
   "metadata": {},
   "outputs": [],
   "source": [
    "# 接口\n",
    "api = \"http://localhost:8080\"\n",
    "# 文件hash\n",
    "hash = \"SHA-256=9e0a95c42e3763a0b31a057f3213eeb6\"\n",
    "# 分块大小\n",
    "shardIdx = 1"
   ]
  },
  {
   "cell_type": "code",
   "execution_count": 38,
   "metadata": {},
   "outputs": [],
   "source": [
    "def post_url(host,hash,shardIdx):\n",
    "    return f\"{host}/temp/{hash}.{shardIdx}\"\n",
    "def patch_url(host,uuid):\n",
    "    return f\"{host}/temp/{uuid}\"\n",
    "def put_url(host,uuid):\n",
    "    return f\"{host}/temp/{uuid}\"\n",
    "def del_url (host,uuid):\n",
    "    return f\"{host}/temp/{uuid}\""
   ]
  },
  {
   "cell_type": "markdown",
   "metadata": {},
   "source": [
    "## 发起post请求"
   ]
  },
  {
   "cell_type": "code",
   "execution_count": 39,
   "metadata": {},
   "outputs": [
    {
     "data": {
      "text/plain": [
       "'c7d1ddf9-9860-4e5e-9dde-8476aea51a9f'"
      ]
     },
     "execution_count": 39,
     "metadata": {},
     "output_type": "execute_result"
    }
   ],
   "source": [
    "headers = {\n",
    "    \"User-Agent\": \"Mozilla/5.0 (Windows NT 10.0; Win64; x64) AppleWebKit/537.36 (KHTML, like Gecko) Chrome/54.0.2840.99 Safari/537.36\",\n",
    "    \"size\":\"63\"\n",
    "    }\n",
    "res= requests.post(\n",
    "    url=post_url(api,hash,shardIdx),\n",
    "    headers=headers\n",
    ")\n",
    "uuid =  res.text\n",
    "uuid"
   ]
  },
  {
   "cell_type": "markdown",
   "metadata": {},
   "source": [
    "## 发起patch请求"
   ]
  },
  {
   "cell_type": "code",
   "execution_count": 41,
   "metadata": {},
   "outputs": [
    {
     "data": {
      "text/plain": [
       "(200, '')"
      ]
     },
     "execution_count": 41,
     "metadata": {},
     "output_type": "execute_result"
    }
   ],
   "source": [
    "res= requests.patch(\n",
    "    url=patch_url(api,uuid),\n",
    "    data=open(\"abc.txt\",\"rb\")\n",
    "    )\n",
    "res.status_code,res.text"
   ]
  },
  {
   "cell_type": "markdown",
   "metadata": {},
   "source": [
    "## 发起put请求"
   ]
  },
  {
   "cell_type": "code",
   "execution_count": 43,
   "metadata": {},
   "outputs": [
    {
     "data": {
      "text/plain": [
       "(200, '')"
      ]
     },
     "execution_count": 43,
     "metadata": {},
     "output_type": "execute_result"
    }
   ],
   "source": [
    "res= requests.put(\n",
    "    url = put_url(api,uuid)\n",
    ")\n",
    "res.status_code,res.text"
   ]
  },
  {
   "cell_type": "markdown",
   "metadata": {},
   "source": [
    "# dataserver 消息队列测试"
   ]
  },
  {
   "cell_type": "markdown",
   "metadata": {},
   "source": [
    "# 发送locate消息"
   ]
  },
  {
   "cell_type": "code",
   "execution_count": 30,
   "metadata": {},
   "outputs": [
    {
     "name": "stdout",
     "output_type": "stream",
     "text": [
      "^C\n"
     ]
    }
   ],
   "source": [
    "! python locate.py"
   ]
  },
  {
   "cell_type": "code",
   "execution_count": null,
   "metadata": {},
   "outputs": [],
   "source": []
  },
  {
   "cell_type": "code",
   "execution_count": 3,
   "metadata": {},
   "outputs": [
    {
     "name": "stdout",
     "output_type": "stream",
     "text": [
      "go run internal/dataserver/main.go -p :8080 -s static/8080 &\n",
      "go run internal/dataserver/main.go -p :8081 -s static/8081 &\n",
      "go run internal/dataserver/main.go -p :8082 -s static/8082 &\n",
      "go run internal/dataserver/main.go -p :8083 -s static/8083 &\n",
      "go run internal/dataserver/main.go -p :8084 -s static/8084 &\n",
      "go run internal/dataserver/main.go -p :8085 -s static/8085 &\n"
     ]
    }
   ],
   "source": [
    "for i in range(6):\n",
    "    print(f\"go run internal/dataserver/main.go -p :{8080+i} -s static/{8080+i} &\")"
   ]
  },
  {
   "cell_type": "code",
   "execution_count": null,
   "metadata": {},
   "outputs": [],
   "source": []
  }
 ],
 "metadata": {
  "kernelspec": {
   "display_name": "Python 3.9.12 ('base')",
   "language": "python",
   "name": "python3"
  },
  "language_info": {
   "codemirror_mode": {
    "name": "ipython",
    "version": 3
   },
   "file_extension": ".py",
   "mimetype": "text/x-python",
   "name": "python",
   "nbconvert_exporter": "python",
   "pygments_lexer": "ipython3",
   "version": "3.9.12"
  },
  "orig_nbformat": 4,
  "vscode": {
   "interpreter": {
    "hash": "ad2bdc8ecc057115af97d19610ffacc2b4e99fae6737bb82f5d7fb13d2f2c186"
   }
  }
 },
 "nbformat": 4,
 "nbformat_minor": 2
}
